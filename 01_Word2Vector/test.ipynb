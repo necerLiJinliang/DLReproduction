{
 "cells": [
  {
   "cell_type": "code",
   "execution_count": 1,
   "metadata": {},
   "outputs": [],
   "source": [
    "import torch\n",
    "import json\n",
    "from model import (\n",
    "    Word2VectorModelSoftmax,\n",
    "    Word2VectorModelHierarchicalSoftmax,\n",
    "    Word2VectorNegSampling,\n",
    ")"
   ]
  },
  {
   "cell_type": "code",
   "execution_count": 4,
   "metadata": {},
   "outputs": [
    {
     "data": {
      "text/plain": [
       "<All keys matched successfully>"
      ]
     },
     "execution_count": 4,
     "metadata": {},
     "output_type": "execute_result"
    }
   ],
   "source": [
    "word2id = json.load(open(\"data/word2id.json\"))\n",
    "id2word = {val: key for key, val in word2id.items()}\n",
    "model = Word2VectorModelSoftmax(\n",
    "    words_num=len(word2id),\n",
    "    embedding_dim=100,\n",
    "    no_leaf_nodes_num=len(word2id) - 1,\n",
    ")\n",
    "model.load_state_dict(\n",
    "    torch.load(\n",
    "        \"model_save/model_softmax.pth\",\n",
    "        map_location=torch.device(\"cpu\"),\n",
    "    )\n",
    ")"
   ]
  },
  {
   "cell_type": "code",
   "execution_count": 22,
   "metadata": {},
   "outputs": [
    {
     "ename": "RuntimeError",
     "evalue": "Error(s) in loading state_dict for Word2VectorNegSampling:\n\tMissing key(s) in state_dict: \"cls.weight\". ",
     "output_type": "error",
     "traceback": [
      "\u001b[0;31m---------------------------------------------------------------------------\u001b[0m",
      "\u001b[0;31mRuntimeError\u001b[0m                              Traceback (most recent call last)",
      "Cell \u001b[0;32mIn[22], line 7\u001b[0m\n\u001b[1;32m      2\u001b[0m id2word \u001b[38;5;241m=\u001b[39m {val: key \u001b[38;5;28;01mfor\u001b[39;00m key, val \u001b[38;5;129;01min\u001b[39;00m word2id\u001b[38;5;241m.\u001b[39mitems()}\n\u001b[1;32m      3\u001b[0m model \u001b[38;5;241m=\u001b[39m Word2VectorNegSampling(\n\u001b[1;32m      4\u001b[0m     words_num\u001b[38;5;241m=\u001b[39m\u001b[38;5;28mlen\u001b[39m(word2id),\n\u001b[1;32m      5\u001b[0m     embedding_dim\u001b[38;5;241m=\u001b[39m\u001b[38;5;241m100\u001b[39m,\n\u001b[1;32m      6\u001b[0m )\n\u001b[0;32m----> 7\u001b[0m \u001b[43mmodel\u001b[49m\u001b[38;5;241;43m.\u001b[39;49m\u001b[43mload_state_dict\u001b[49m\u001b[43m(\u001b[49m\n\u001b[1;32m      8\u001b[0m \u001b[43m    \u001b[49m\u001b[43mtorch\u001b[49m\u001b[38;5;241;43m.\u001b[39;49m\u001b[43mload\u001b[49m\u001b[43m(\u001b[49m\n\u001b[1;32m      9\u001b[0m \u001b[43m        \u001b[49m\u001b[38;5;124;43m\"\u001b[39;49m\u001b[38;5;124;43mmodel_save/model_neg.pth\u001b[39;49m\u001b[38;5;124;43m\"\u001b[39;49m\u001b[43m,\u001b[49m\n\u001b[1;32m     10\u001b[0m \u001b[43m        \u001b[49m\u001b[43mmap_location\u001b[49m\u001b[38;5;241;43m=\u001b[39;49m\u001b[43mtorch\u001b[49m\u001b[38;5;241;43m.\u001b[39;49m\u001b[43mdevice\u001b[49m\u001b[43m(\u001b[49m\u001b[38;5;124;43m\"\u001b[39;49m\u001b[38;5;124;43mcpu\u001b[39;49m\u001b[38;5;124;43m\"\u001b[39;49m\u001b[43m)\u001b[49m\u001b[43m,\u001b[49m\n\u001b[1;32m     11\u001b[0m \u001b[43m    \u001b[49m\u001b[43m)\u001b[49m\n\u001b[1;32m     12\u001b[0m \u001b[43m)\u001b[49m\n",
      "File \u001b[0;32m~/opt/anaconda3/envs/pytorch/lib/python3.10/site-packages/torch/nn/modules/module.py:2189\u001b[0m, in \u001b[0;36mModule.load_state_dict\u001b[0;34m(self, state_dict, strict, assign)\u001b[0m\n\u001b[1;32m   2184\u001b[0m         error_msgs\u001b[38;5;241m.\u001b[39minsert(\n\u001b[1;32m   2185\u001b[0m             \u001b[38;5;241m0\u001b[39m, \u001b[38;5;124m'\u001b[39m\u001b[38;5;124mMissing key(s) in state_dict: \u001b[39m\u001b[38;5;132;01m{}\u001b[39;00m\u001b[38;5;124m. \u001b[39m\u001b[38;5;124m'\u001b[39m\u001b[38;5;241m.\u001b[39mformat(\n\u001b[1;32m   2186\u001b[0m                 \u001b[38;5;124m'\u001b[39m\u001b[38;5;124m, \u001b[39m\u001b[38;5;124m'\u001b[39m\u001b[38;5;241m.\u001b[39mjoin(\u001b[38;5;124mf\u001b[39m\u001b[38;5;124m'\u001b[39m\u001b[38;5;124m\"\u001b[39m\u001b[38;5;132;01m{\u001b[39;00mk\u001b[38;5;132;01m}\u001b[39;00m\u001b[38;5;124m\"\u001b[39m\u001b[38;5;124m'\u001b[39m \u001b[38;5;28;01mfor\u001b[39;00m k \u001b[38;5;129;01min\u001b[39;00m missing_keys)))\n\u001b[1;32m   2188\u001b[0m \u001b[38;5;28;01mif\u001b[39;00m \u001b[38;5;28mlen\u001b[39m(error_msgs) \u001b[38;5;241m>\u001b[39m \u001b[38;5;241m0\u001b[39m:\n\u001b[0;32m-> 2189\u001b[0m     \u001b[38;5;28;01mraise\u001b[39;00m \u001b[38;5;167;01mRuntimeError\u001b[39;00m(\u001b[38;5;124m'\u001b[39m\u001b[38;5;124mError(s) in loading state_dict for \u001b[39m\u001b[38;5;132;01m{}\u001b[39;00m\u001b[38;5;124m:\u001b[39m\u001b[38;5;130;01m\\n\u001b[39;00m\u001b[38;5;130;01m\\t\u001b[39;00m\u001b[38;5;132;01m{}\u001b[39;00m\u001b[38;5;124m'\u001b[39m\u001b[38;5;241m.\u001b[39mformat(\n\u001b[1;32m   2190\u001b[0m                        \u001b[38;5;28mself\u001b[39m\u001b[38;5;241m.\u001b[39m\u001b[38;5;18m__class__\u001b[39m\u001b[38;5;241m.\u001b[39m\u001b[38;5;18m__name__\u001b[39m, \u001b[38;5;124m\"\u001b[39m\u001b[38;5;130;01m\\n\u001b[39;00m\u001b[38;5;130;01m\\t\u001b[39;00m\u001b[38;5;124m\"\u001b[39m\u001b[38;5;241m.\u001b[39mjoin(error_msgs)))\n\u001b[1;32m   2191\u001b[0m \u001b[38;5;28;01mreturn\u001b[39;00m _IncompatibleKeys(missing_keys, unexpected_keys)\n",
      "\u001b[0;31mRuntimeError\u001b[0m: Error(s) in loading state_dict for Word2VectorNegSampling:\n\tMissing key(s) in state_dict: \"cls.weight\". "
     ]
    }
   ],
   "source": [
    "word2id = json.load(open(\"data/word2id.json\"))\n",
    "id2word = {val: key for key, val in word2id.items()}\n",
    "model = Word2VectorNegSampling(\n",
    "    words_num=len(word2id),\n",
    "    embedding_dim=100,\n",
    ")\n",
    "model.load_state_dict(\n",
    "    torch.load(\n",
    "        \"model_save/model_neg.pth\",\n",
    "        map_location=torch.device(\"cpu\"),\n",
    "    )\n",
    ")"
   ]
  },
  {
   "cell_type": "code",
   "execution_count": 14,
   "metadata": {},
   "outputs": [
    {
     "data": {
      "text/plain": [
       "<All keys matched successfully>"
      ]
     },
     "execution_count": 14,
     "metadata": {},
     "output_type": "execute_result"
    }
   ],
   "source": [
    "word2id = json.load(open(\"data/word2id.json\"))\n",
    "id2word = {val: key for key, val in word2id.items()}\n",
    "model = Word2VectorModelHierarchicalSoftmax(\n",
    "    words_num=len(word2id),\n",
    "    embedding_dim=100,\n",
    "    no_leaf_nodes_num=len(word2id),\n",
    ")\n",
    "model.load_state_dict(\n",
    "    torch.load(\n",
    "        \"model_save/model_hier.pth\",\n",
    "        map_location=torch.device(\"cpu\"),\n",
    "    )\n",
    ")"
   ]
  },
  {
   "cell_type": "code",
   "execution_count": 15,
   "metadata": {},
   "outputs": [],
   "source": [
    "embedding_weight = model.embedding.weight"
   ]
  },
  {
   "cell_type": "code",
   "execution_count": 16,
   "metadata": {},
   "outputs": [
    {
     "name": "stderr",
     "output_type": "stream",
     "text": [
      "/var/folders/_m/z2k5mp3x6l72p84ycrp1kjpc0000gn/T/ipykernel_87784/180825984.py:1: UserWarning: To copy construct from a tensor, it is recommended to use sourceTensor.clone().detach() or sourceTensor.clone().detach().requires_grad_(True), rather than torch.tensor(sourceTensor).\n",
      "  embedding = torch.tensor(embedding_weight).T\n"
     ]
    }
   ],
   "source": [
    "embedding = torch.tensor(embedding_weight).T"
   ]
  },
  {
   "cell_type": "code",
   "execution_count": 17,
   "metadata": {},
   "outputs": [
    {
     "data": {
      "text/plain": [
       "torch.Size([34565, 100])"
      ]
     },
     "execution_count": 17,
     "metadata": {},
     "output_type": "execute_result"
    }
   ],
   "source": [
    "embedding.shape"
   ]
  },
  {
   "cell_type": "code",
   "execution_count": 18,
   "metadata": {},
   "outputs": [],
   "source": [
    "# 余弦相似度距离\n",
    "norm = torch.norm(embedding, p=2, dim=-1)\n",
    "norm_matrix = norm.unsqueeze(dim=1) * norm.unsqueeze(dim=0)\n",
    "dist = embedding @ embedding.T / norm_matrix"
   ]
  },
  {
   "cell_type": "code",
   "execution_count": 19,
   "metadata": {},
   "outputs": [],
   "source": [
    "id_test = word2id[\"孙少平\"]"
   ]
  },
  {
   "cell_type": "code",
   "execution_count": 20,
   "metadata": {},
   "outputs": [],
   "source": [
    "nearest_id_list = dist[id_test].argsort()[-11:-1].tolist()"
   ]
  },
  {
   "cell_type": "code",
   "execution_count": 21,
   "metadata": {},
   "outputs": [
    {
     "data": {
      "text/plain": [
       "['别人', '劳动', '郝红梅', '红梅', '晓霞', '他', '顾养民', '一切', '一种', '她']"
      ]
     },
     "execution_count": 21,
     "metadata": {},
     "output_type": "execute_result"
    }
   ],
   "source": [
    "nearest_words = [id2word[word_id] for word_id in nearest_id_list]\n",
    "nearest_words"
   ]
  },
  {
   "cell_type": "code",
   "execution_count": 14,
   "metadata": {},
   "outputs": [
    {
     "data": {
      "text/plain": [
       "torch.Size([34565, 34565])"
      ]
     },
     "execution_count": 14,
     "metadata": {},
     "output_type": "execute_result"
    }
   ],
   "source": [
    "dist = torch.cdist(embedding, embedding, p=2)\n",
    "dist.shape"
   ]
  },
  {
   "cell_type": "code",
   "execution_count": 15,
   "metadata": {},
   "outputs": [],
   "source": [
    "nearest_id_list = dist[id_test].argsort()[1:11].tolist()"
   ]
  },
  {
   "cell_type": "code",
   "execution_count": 27,
   "metadata": {},
   "outputs": [
    {
     "data": {
      "text/plain": [
       "['田润生', '开水', '步行', '田润叶', '市', '小门', '南方', '慢慢', '军队', '喧天']"
      ]
     },
     "execution_count": 27,
     "metadata": {},
     "output_type": "execute_result"
    }
   ],
   "source": [
    "nearest_words = [id2word[word_id] for word_id in nearest_id_list]\n",
    "nearest_words"
   ]
  },
  {
   "cell_type": "code",
   "execution_count": null,
   "metadata": {},
   "outputs": [],
   "source": [
    "import jieba\n",
    "import re\n",
    "import json\n",
    "\n",
    "with open(\"data/data.txt\") as f:\n",
    "    text = f.read()\n",
    "sentences = text.split(\"。\")\n",
    "\n",
    "\n",
    "def remove_punctuation(text):\n",
    "    text = re.sub(r\"[^\\w\\s]\", \"\", text)  # 去除标点符号\n",
    "    return text\n",
    "\n",
    "\n",
    "sentences = [remove_punctuation(sentence) for sentence in sentences]\n",
    "sentences = [jieba.lcut(s) for s in sentences]\n",
    "sentences = [\n",
    "    [w for w in words if w != \"\\n\" and w != \" \" and w != \"\\u3000\"]\n",
    "    for words in sentences\n",
    "]"
   ]
  },
  {
   "cell_type": "code",
   "execution_count": null,
   "metadata": {
    "collapsed": true,
    "jupyter": {
     "outputs_hidden": true
    },
    "scrolled": true
   },
   "outputs": [],
   "source": [
    "sentences"
   ]
  },
  {
   "cell_type": "code",
   "execution_count": 75,
   "metadata": {},
   "outputs": [],
   "source": [
    "from gensim.models import Word2Vec\n",
    "from gensim.utils import simple_preprocess\n",
    "\n",
    "# 假设你有一份大型的文本语料库，使用 simple_preprocess 进行预处理\n",
    "# sentences = [\n",
    "#     \"Artificial intelligence is the new electricity\",\n",
    "#     \"Machine learning is a subset of artificial intelligence\",\n",
    "#     \"Natural language processing enables machines to understand human language\"\n",
    "# ]\n",
    "\n",
    "# 将句子分词并处理为语料库\n",
    "# processed_sentences = [simple_preprocess(sentence) for sentence in sentences]\n",
    "\n",
    "# 训练 Word2Vec 模型\n",
    "model = Word2Vec(\n",
    "    sentences=sentences, vector_size=100, window=5, min_count=1, sg=1, epochs=10\n",
    ")\n",
    "\n",
    "# 保存模型\n",
    "model.save(\"word2vec.model\")"
   ]
  },
  {
   "cell_type": "code",
   "execution_count": null,
   "metadata": {},
   "outputs": [],
   "source": [
    "model.wv.most_similar(\"孙少平\")"
   ]
  },
  {
   "cell_type": "code",
   "execution_count": null,
   "metadata": {},
   "outputs": [],
   "source": [
    "import torch\n",
    "\n",
    "a = torch.tensor([[1, 2, 3], [3, 4, 5], [4, 5, 6]])  # [2,3]\n",
    "pos = torch.tensor([[1, -1], [2, -1]])\n",
    "pos.shape\n",
    "a.shape"
   ]
  },
  {
   "cell_type": "code",
   "execution_count": null,
   "metadata": {},
   "outputs": [],
   "source": [
    "a"
   ]
  },
  {
   "cell_type": "code",
   "execution_count": 8,
   "metadata": {},
   "outputs": [],
   "source": [
    "indices = torch.tensor([[0, 1], [1, 2]])"
   ]
  },
  {
   "cell_type": "code",
   "execution_count": null,
   "metadata": {},
   "outputs": [],
   "source": [
    "a[torch.arange(0, 2).unsqueeze(-1), indices]"
   ]
  },
  {
   "cell_type": "code",
   "execution_count": null,
   "metadata": {},
   "outputs": [],
   "source": [
    "a"
   ]
  },
  {
   "cell_type": "code",
   "execution_count": null,
   "metadata": {},
   "outputs": [],
   "source": [
    "import numpy as np\n",
    "\n",
    "a = np.array(\n",
    "    [\n",
    "        1,\n",
    "        2,\n",
    "        3,\n",
    "    ]\n",
    ")\n",
    "a.tolist()"
   ]
  }
 ],
 "metadata": {
  "kernelspec": {
   "display_name": "pytorch",
   "language": "python",
   "name": "python3"
  },
  "language_info": {
   "codemirror_mode": {
    "name": "ipython",
    "version": 3
   },
   "file_extension": ".py",
   "mimetype": "text/x-python",
   "name": "python",
   "nbconvert_exporter": "python",
   "pygments_lexer": "ipython3",
   "version": "3.10.0"
  }
 },
 "nbformat": 4,
 "nbformat_minor": 4
}
