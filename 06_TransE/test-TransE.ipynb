{
 "cells": [
  {
   "cell_type": "code",
   "execution_count": 2,
   "metadata": {},
   "outputs": [],
   "source": [
    "import torch\n",
    "from tqdm import tqdm\n",
    "from model_transE import TransE\n",
    "import json\n",
    "import pandas as pd\n",
    "from torch.nn import functional as F"
   ]
  },
  {
   "cell_type": "code",
   "execution_count": 3,
   "metadata": {},
   "outputs": [],
   "source": [
    "entity2id = json.load(open(\"dataset/FB15k/entity2id.json\"))\n",
    "label2id = json.load(open(\"dataset/FB15k/label2id.json\"))"
   ]
  },
  {
   "cell_type": "code",
   "execution_count": 4,
   "metadata": {},
   "outputs": [],
   "source": [
    "def get_score(head_emb, rel_emb, tail_emb, norm):\n",
    "    if len(head_emb.shape) < 2:\n",
    "        head_emb = head_emb.unsqueeze(dim=0)\n",
    "    if len(rel_emb.shape) < 2:\n",
    "        rel_emb = rel_emb.unsqueeze(dim=0)\n",
    "    if len(tail_emb.shape) < 2:\n",
    "        tail_emb = tail_emb.unsqueeze(dim=0)\n",
    "    # [b,e]\n",
    "    score = torch.norm(head_emb + rel_emb - tail_emb, p=norm, dim=-1)\n",
    "    return score.squeeze()"
   ]
  },
  {
   "cell_type": "code",
   "execution_count": 5,
   "metadata": {},
   "outputs": [],
   "source": [
    "def evaluate(\n",
    "    entity_embeddings,\n",
    "    relation_embeddings,\n",
    "    test_triples: list,\n",
    "    all_triples: list,\n",
    "    entity2id: dict,\n",
    "    rel2id: dict,\n",
    "    norm=2,\n",
    "    k_list=[10],\n",
    "    device=\"cpu\",\n",
    "    raw=True,\n",
    "    entity_dim=50,\n",
    "    relation_dim=50,\n",
    "):\n",
    "    # 构造一个三维的张量，值为1表示真实三元组\n",
    "    h2_rt = dict()\n",
    "    t2_rh = dict()\n",
    "    for h, r, t in all_triples:\n",
    "        if (r, t) not in h2_rt:\n",
    "            h2_rt[(r, t)] = [h]\n",
    "        else:\n",
    "            h2_rt[(r, t)].append(h)\n",
    "        if (r, h) not in t2_rh:\n",
    "            t2_rh[(r, h)] = [t]\n",
    "        else:\n",
    "            t2_rh[(r, h)].append(t)\n",
    "\n",
    "    # 将嵌入转移到指定的设备中\n",
    "    entity_embeddings = entity_embeddings.to(device)\n",
    "    relation_embeddings = relation_embeddings.to(device)\n",
    "    hits_at_k = {k: 0 for k in k_list}\n",
    "    mean_rank = 0\n",
    "    entity_ids = list(entity2id.values())\n",
    "    # 使用循环计算指标\n",
    "    for head_idx, relation_idx, tail_idx in tqdm(test_triples, desc=\"Evaluating\"):\n",
    "        # 获取正例\n",
    "        head_emb = entity_embeddings[head_idx]\n",
    "        rel_emb = relation_embeddings[relation_idx]\n",
    "        tail_emb = entity_embeddings[tail_idx]\n",
    "        # rel_proj = relation_projs[relation_idx]\n",
    "        # 计算正例的分数\n",
    "        positive_score = get_score(\n",
    "            head_emb,\n",
    "            rel_emb,\n",
    "            tail_emb,\n",
    "            norm,\n",
    "        ).unsqueeze(0)\n",
    "        # 计算所有头实体被替换后的分数\\\n",
    "        all_heads_scores = get_score(\n",
    "            entity_embeddings,\n",
    "            rel_emb,\n",
    "            tail_emb,\n",
    "            norm,\n",
    "        )\n",
    "\n",
    "        if not raw:\n",
    "            all_heads_scores[h2_rt[(relation_idx, tail_idx)]] = 1e8\n",
    "        rank = (positive_score > all_heads_scores).sum() + 1\n",
    "        head_rank = rank\n",
    "        # mean_rank += rank.item()\n",
    "\n",
    "        # 计算 Hit@K\n",
    "        for k in k_list:\n",
    "            if rank <= k:\n",
    "                hits_at_k[k] += 1\n",
    "        all_tail_scores = get_score(\n",
    "            head_emb,\n",
    "            rel_emb,\n",
    "            entity_embeddings,\n",
    "            norm,\n",
    "        )\n",
    "        if not raw:\n",
    "            all_tail_scores[t2_rh[(relation_idx, head_idx)]] = 1e8\n",
    "        rank = (positive_score > all_tail_scores).sum() + 1\n",
    "        tail_rank = rank\n",
    "        # sorted_scores, sorted_indices = torch.sort(all_tail_scores)\n",
    "        # rank = (sorted_indices == pos_idx).nonzero(as_tuple=True)[0].item() + 1\n",
    "        # mean_rank += rank.item()\n",
    "        mean_rank += (head_rank.item() + tail_rank.item()) / 2\n",
    "\n",
    "        # 计算 Hit@K\n",
    "        for k in k_list:\n",
    "            if rank <= k:\n",
    "                hits_at_k[k] += 1\n",
    "    # 计算平均值\n",
    "    # num_samples = len(h2replace_ids) + len(t2replace_ids)\n",
    "    num_samples = len(test_triples) * 2\n",
    "    mean_rank /= len(test_triples)\n",
    "    hits_at_k = {k: v / (num_samples) for k, v in hits_at_k.items()}\n",
    "    return {\"Mean Rank\": mean_rank, \"Hits@K\": hits_at_k}"
   ]
  },
  {
   "cell_type": "code",
   "execution_count": 6,
   "metadata": {},
   "outputs": [],
   "source": [
    "test_data = pd.read_csv(\"dataset/FB15k/test.txt\", names=[\"h\", \"r\", \"t\"], delimiter=\"\\t\")\n",
    "valid_data = pd.read_csv(\n",
    "    \"dataset/FB15k/valid.txt\", names=[\"h\", \"r\", \"t\"], delimiter=\"\\t\"\n",
    ")\n",
    "train_data = pd.read_csv(\n",
    "    \"dataset/FB15k/train.txt\", names=[\"h\", \"r\", \"t\"], delimiter=\"\\t\"\n",
    ")\n",
    "test_entities = list(set(test_data[\"h\"].tolist() + test_data[\"t\"].tolist()))\n",
    "test_entities_ids = [entity2id[s] for s in test_entities]\n",
    "test_triples = test_data.values.tolist()\n",
    "test_triples = [\n",
    "    (entity2id[s[0]], label2id[s[1]], entity2id[s[2]]) for s in test_triples\n",
    "]\n",
    "valid_triples = valid_data.values.tolist()\n",
    "valid_triples = [\n",
    "    (entity2id[s[0]], label2id[s[1]], entity2id[s[2]]) for s in valid_triples\n",
    "]\n",
    "all_triples = (\n",
    "    train_data.values.tolist() + valid_data.values.tolist() + test_data.values.tolist()\n",
    ")\n",
    "all_triples = [(entity2id[s[0]], label2id[s[1]], entity2id[s[2]]) for s in all_triples]"
   ]
  },
  {
   "cell_type": "code",
   "execution_count": 17,
   "metadata": {},
   "outputs": [
    {
     "name": "stderr",
     "output_type": "stream",
     "text": [
      "/tmp/ipykernel_1341/361382219.py:1: FutureWarning: You are using `torch.load` with `weights_only=False` (the current default value), which uses the default pickle module implicitly. It is possible to construct malicious pickle data which will execute arbitrary code during unpickling (See https://github.com/pytorch/pytorch/blob/main/SECURITY.md#untrusted-models for more details). In a future release, the default value for `weights_only` will be flipped to `True`. This limits the functions that could be executed during unpickling. Arbitrary objects will no longer be allowed to be loaded via this mode unless they are explicitly allowlisted by the user via `torch.serialization.add_safe_globals`. We recommend you start setting `weights_only=True` for any use case where you don't have full control of the loaded file. Please open an issue on GitHub for any issues related to this experimental feature.\n",
      "  parameters = torch.load(\"model_save/TransE-model-bern2.pth\", map_location=\"cuda\")[\n",
      "Evaluating: 100%|██████████| 50000/50000 [00:18<00:00, 2694.85it/s]\n"
     ]
    },
    {
     "data": {
      "text/plain": [
       "{'Mean Rank': 216.13289, 'Hits@K': {10: 0.37105}}"
      ]
     },
     "execution_count": 17,
     "metadata": {},
     "output_type": "execute_result"
    }
   ],
   "source": [
    "parameters = torch.load(\"model_save/TransE-model-bern2.pth\", map_location=\"cuda\")[\n",
    "    \"model_state_dict\"\n",
    "]\n",
    "entity_embeddings = parameters[\"entity_embeddings.weight\"]\n",
    "relation_embeddings = parameters[\"relation_embeddings.weight\"]\n",
    "\n",
    "# Normalize the embeddings\n",
    "# entity_embeddings = F.normalize(entity_embeddings, dim=1, p=2)\n",
    "# relation_embeddings = F.normalize(relation_embeddings, dim=1, p=2)\n",
    "# relation_projs = parameters[\"relation_proj.weight\"]\n",
    "score = evaluate(\n",
    "    entity_embeddings=entity_embeddings,\n",
    "    relation_embeddings=relation_embeddings,\n",
    "    test_triples=valid_triples,\n",
    "    all_triples=all_triples,\n",
    "    entity2id=entity2id,\n",
    "    rel2id=label2id,\n",
    "    norm=1,\n",
    "    k_list=[10],\n",
    "    device=\"cuda\",\n",
    "    raw=True,\n",
    ")\n",
    "score"
   ]
  }
 ],
 "metadata": {
  "kernelspec": {
   "display_name": "base",
   "language": "python",
   "name": "python3"
  },
  "language_info": {
   "codemirror_mode": {
    "name": "ipython",
    "version": 3
   },
   "file_extension": ".py",
   "mimetype": "text/x-python",
   "name": "python",
   "nbconvert_exporter": "python",
   "pygments_lexer": "ipython3",
   "version": "3.12.3"
  }
 },
 "nbformat": 4,
 "nbformat_minor": 4
}
