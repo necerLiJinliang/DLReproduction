{
 "cells": [
  {
   "cell_type": "code",
   "execution_count": 1,
   "metadata": {},
   "outputs": [],
   "source": [
    "import torch_geometric\n",
    "from torch_geometric.datasets import TUDataset"
   ]
  },
  {
   "cell_type": "code",
   "execution_count": 5,
   "metadata": {},
   "outputs": [
    {
     "name": "stderr",
     "output_type": "stream",
     "text": [
      "Downloading https://www.chrsmrrs.com/graphkerneldatasets/MUTAG.zip\n"
     ]
    },
    {
     "name": "stdout",
     "output_type": "stream",
     "text": [
      "MUTAG(188)\n"
     ]
    },
    {
     "name": "stderr",
     "output_type": "stream",
     "text": [
      "Extracting dataset/temp/MUTAG/MUTAG.zip\n",
      "Processing...\n",
      "Done!\n"
     ]
    }
   ],
   "source": [
    "dataset = TUDataset(root=\"./dataset/temp\", name=\"MUTAG\")\n",
    "print(dataset)"
   ]
  },
  {
   "cell_type": "code",
   "execution_count": 7,
   "metadata": {},
   "outputs": [
    {
     "name": "stdout",
     "output_type": "stream",
     "text": [
      "Number of graphs in the dataset: 188\n",
      "Data(edge_index=[2, 28], x=[13, 7], edge_attr=[28, 4], y=[1])\n",
      "Node features: tensor([[1., 0., 0., 0., 0., 0., 0.],\n",
      "        [1., 0., 0., 0., 0., 0., 0.],\n",
      "        [1., 0., 0., 0., 0., 0., 0.],\n",
      "        [1., 0., 0., 0., 0., 0., 0.],\n",
      "        [1., 0., 0., 0., 0., 0., 0.],\n",
      "        [1., 0., 0., 0., 0., 0., 0.],\n",
      "        [0., 1., 0., 0., 0., 0., 0.],\n",
      "        [1., 0., 0., 0., 0., 0., 0.],\n",
      "        [1., 0., 0., 0., 0., 0., 0.],\n",
      "        [1., 0., 0., 0., 0., 0., 0.],\n",
      "        [0., 1., 0., 0., 0., 0., 0.],\n",
      "        [0., 0., 1., 0., 0., 0., 0.],\n",
      "        [0., 0., 1., 0., 0., 0., 0.]])\n",
      "Edge index: tensor([[ 0,  0,  1,  1,  2,  2,  2,  3,  3,  4,  4,  5,  5,  6,  6,  7,  7,  7,\n",
      "          8,  8,  8,  9,  9, 10, 10, 10, 11, 12],\n",
      "        [ 1,  9,  0,  2,  1,  3,  7,  2,  4,  3,  5,  4,  6,  5,  7,  2,  6,  8,\n",
      "          7,  9, 10,  0,  8,  8, 11, 12, 10, 10]])\n",
      "Label: tensor([0])\n"
     ]
    }
   ],
   "source": [
    "# 查看数据集的大小\n",
    "print(f\"Number of graphs in the dataset: {len(dataset)}\")\n",
    "\n",
    "# 获取第一个图形数据和标签\n",
    "data = dataset[1]\n",
    "print(data)\n",
    "\n",
    "# 打印图形的节点特征和边索引\n",
    "print(f\"Node features: {data.x}\")\n",
    "print(f\"Edge index: {data.edge_index}\")\n",
    "print(f\"Label: {data.y}\")"
   ]
  }
 ],
 "metadata": {
  "kernelspec": {
   "display_name": "pytorch",
   "language": "python",
   "name": "python3"
  },
  "language_info": {
   "codemirror_mode": {
    "name": "ipython",
    "version": 3
   },
   "file_extension": ".py",
   "mimetype": "text/x-python",
   "name": "python",
   "nbconvert_exporter": "python",
   "pygments_lexer": "ipython3",
   "version": "3.10.0"
  }
 },
 "nbformat": 4,
 "nbformat_minor": 2
}
